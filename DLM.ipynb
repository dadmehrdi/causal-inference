{
 "cells": [
  {
   "cell_type": "markdown",
   "id": "fea1cbe9",
   "metadata": {},
   "source": [
    "<br><br>\n",
    "<font color='FireBrick' size='7'><b> Double/Debiased Machine Learning (DML)</b></font>\n",
    "\n",
    "<font color='black' size='5'><b>using IPUMS data</b></font>"
   ]
  },
  {
   "cell_type": "code",
   "execution_count": null,
   "id": "bc122d54",
   "metadata": {},
   "outputs": [],
   "source": [
    "import pandas as pd\n",
    "\n",
    "main_data_df = pd.read_feather(\"/Users/dadmehr/R/main_data.feather\")\n",
    "\n",
    "print(f\"Number of rows: {main_data_df.shape[0]}\")\n",
    "print(f\"Number of columns: {main_data_df.shape[1]}\")"
   ]
  },
  {
   "cell_type": "code",
   "execution_count": null,
   "id": "1298e377",
   "metadata": {},
   "outputs": [],
   "source": [
    "#data = data.sample(frac=0.01)  # Sampling 1% of the dataset due to GitHub's 25MB file size limit for uploads."
   ]
  },
  {
   "cell_type": "code",
   "execution_count": null,
   "id": "07d28938",
   "metadata": {},
   "outputs": [],
   "source": [
    "data = main_data_df[main_data_df['YEAR'] == 2021]\n",
    "data = data[['INCTOT', 'SEX', 'EDUC', 'EDUCD', 'RACE', 'AGE','EMPSTAT', 'MARST']]\n",
    "\n",
    "data.to_csv('IPUMS_2021_data.csv', index=False)"
   ]
  },
  {
   "cell_type": "code",
   "execution_count": null,
   "id": "6893e3b0",
   "metadata": {},
   "outputs": [],
   "source": [
    "data"
   ]
  },
  {
   "cell_type": "code",
   "execution_count": null,
   "id": "f309852c",
   "metadata": {},
   "outputs": [],
   "source": [
    "#!pip install statsmodels econml"
   ]
  },
  {
   "cell_type": "code",
   "execution_count": null,
   "id": "cb92b491",
   "metadata": {},
   "outputs": [],
   "source": [
    "import statsmodels.api as sm\n",
    "\n",
    "# Prepare the variables\n",
    "X = data[['SEX', 'AGE']]  # Independent variables\n",
    "y = data['INCTOT']  # Dependent variable\n",
    "\n",
    "# Add a constant to the independent variables (for the intercept)\n",
    "X = sm.add_constant(X)\n",
    "\n",
    "# Fit the model\n",
    "model = sm.OLS(y, X).fit()\n",
    "\n",
    "# Print the summary of the regression model\n",
    "print(model.summary())\n"
   ]
  },
  {
   "cell_type": "code",
   "execution_count": null,
   "id": "fee92b1e",
   "metadata": {},
   "outputs": [],
   "source": []
  },
  {
   "cell_type": "code",
   "execution_count": null,
   "id": "1c2d4258",
   "metadata": {},
   "outputs": [],
   "source": [
    "import doubleml as dml\n",
    "import pandas as pd\n",
    "from sklearn.ensemble import RandomForestRegressor\n",
    "from sklearn.model_selection import train_test_split\n",
    "\n",
    "# Load your data (replace 'your_data.csv' with your actual file name)\n",
    "\n",
    "# Get the column names for the outcome, treatment, and control(s)\n",
    "y_col = 'INCTOT'  # Outcome variable\n",
    "d_col = 'SEX'  # Treatment variable\n",
    "x_cols = ['AGE']  # Control variables\n",
    "\n",
    "# Create the dataset for DoubleML\n",
    "data_dml = dml.DoubleMLData(data, y_col=y_col, d_cols=[d_col], x_cols=x_cols)\n",
    "\n",
    "# Initialize the machine learning algorithms for DML\n",
    "ml_y = RandomForestRegressor()  # For the outcome variable\n",
    "ml_d = RandomForestRegressor()  # For the treatment variable\n",
    "\n",
    "# Initialize and fit the DoubleMLPLR model\n",
    "dml_plr = dml.DoubleMLPLR(data_dml, ml_y, ml_d, n_folds=3)\n",
    "dml_plr.fit()\n",
    "\n",
    "# Retrieve the summary DataFrame\n",
    "summary = dml_plr.summary\n",
    "\n",
    "# Check the available column names\n",
    "print(summary.columns)\n",
    "\n",
    "# Extract the coefficient for the treatment variable (SEX)\n",
    "sex_coef = summary['coef'].loc[d_col]\n",
    "\n",
    "# Output the coefficient for SEX\n",
    "print(f\"The estimated coefficient for SEX is: {sex_coef}\")"
   ]
  },
  {
   "cell_type": "code",
   "execution_count": null,
   "id": "cc0a674d",
   "metadata": {},
   "outputs": [],
   "source": []
  },
  {
   "cell_type": "code",
   "execution_count": null,
   "id": "31f4b4fe",
   "metadata": {},
   "outputs": [],
   "source": []
  }
 ],
 "metadata": {
  "kernelspec": {
   "display_name": "Python 3 (ipykernel)",
   "language": "python",
   "name": "python3"
  },
  "language_info": {
   "codemirror_mode": {
    "name": "ipython",
    "version": 3
   },
   "file_extension": ".py",
   "mimetype": "text/x-python",
   "name": "python",
   "nbconvert_exporter": "python",
   "pygments_lexer": "ipython3",
   "version": "3.11.4"
  }
 },
 "nbformat": 4,
 "nbformat_minor": 5
}
