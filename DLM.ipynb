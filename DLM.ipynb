{
 "cells": [
  {
   "cell_type": "markdown",
   "id": "8d8e974d",
   "metadata": {},
   "source": [
    "<br><br>\n",
    "<font color='FireBrick' size='7'><b> Double/Debiased Machine Learning</b></font>\n",
    "\n",
    "<font color='FireBrick' size='5'><b>using IPUMS data</b></font>"
   ]
  },
  {
   "cell_type": "code",
   "execution_count": 1,
   "id": "43a8a83b",
   "metadata": {},
   "outputs": [
    {
     "name": "stdout",
     "output_type": "stream",
     "text": [
      "Number of rows: 43424806\n",
      "Number of columns: 54\n"
     ]
    }
   ],
   "source": [
    "import pandas as pd\n",
    "\n",
    "main_data_df = pd.read_feather(\"/Users/dadmehr/R/main_data.feather\")\n",
    "\n",
    "print(f\"Number of rows: {main_data_df.shape[0]}\")\n",
    "print(f\"Number of columns: {main_data_df.shape[1]}\")"
   ]
  },
  {
   "cell_type": "code",
   "execution_count": 3,
   "id": "5b679192",
   "metadata": {},
   "outputs": [],
   "source": [
    "data = data.sample(frac=0.01)  # Sampling 1% of the dataset due to GitHub's 25MB file size limit for uploads."
   ]
  },
  {
   "cell_type": "code",
   "execution_count": 2,
   "id": "4ee31690",
   "metadata": {},
   "outputs": [],
   "source": [
    "data = main_data_df[main_data_df['YEAR'] == 2021]\n",
    "data = data[['INCTOT', 'SEX', 'EDUC', 'EDUCD', 'RACE', 'AGE','EMPSTAT', 'MARST']]\n",
    "\n",
    "data.to_csv('IPUMS_2021_data.csv', index=False)"
   ]
  },
  {
   "cell_type": "code",
   "execution_count": 4,
   "id": "b48e1ff2",
   "metadata": {},
   "outputs": [
    {
     "data": {
      "text/html": [
       "<div>\n",
       "<style scoped>\n",
       "    .dataframe tbody tr th:only-of-type {\n",
       "        vertical-align: middle;\n",
       "    }\n",
       "\n",
       "    .dataframe tbody tr th {\n",
       "        vertical-align: top;\n",
       "    }\n",
       "\n",
       "    .dataframe thead th {\n",
       "        text-align: right;\n",
       "    }\n",
       "</style>\n",
       "<table border=\"1\" class=\"dataframe\">\n",
       "  <thead>\n",
       "    <tr style=\"text-align: right;\">\n",
       "      <th></th>\n",
       "      <th>INCTOT</th>\n",
       "      <th>SEX</th>\n",
       "      <th>EDUC</th>\n",
       "      <th>EDUCD</th>\n",
       "      <th>RACE</th>\n",
       "      <th>AGE</th>\n",
       "      <th>EMPSTAT</th>\n",
       "      <th>MARST</th>\n",
       "    </tr>\n",
       "  </thead>\n",
       "  <tbody>\n",
       "    <tr>\n",
       "      <th>40411062</th>\n",
       "      <td>15000.0</td>\n",
       "      <td>2</td>\n",
       "      <td>2</td>\n",
       "      <td>23</td>\n",
       "      <td>8</td>\n",
       "      <td>53</td>\n",
       "      <td>3</td>\n",
       "      <td>2</td>\n",
       "    </tr>\n",
       "    <tr>\n",
       "      <th>42278278</th>\n",
       "      <td>100000.0</td>\n",
       "      <td>2</td>\n",
       "      <td>10</td>\n",
       "      <td>101</td>\n",
       "      <td>1</td>\n",
       "      <td>52</td>\n",
       "      <td>1</td>\n",
       "      <td>1</td>\n",
       "    </tr>\n",
       "    <tr>\n",
       "      <th>40433269</th>\n",
       "      <td>38000.0</td>\n",
       "      <td>2</td>\n",
       "      <td>8</td>\n",
       "      <td>81</td>\n",
       "      <td>1</td>\n",
       "      <td>39</td>\n",
       "      <td>3</td>\n",
       "      <td>1</td>\n",
       "    </tr>\n",
       "    <tr>\n",
       "      <th>40233437</th>\n",
       "      <td>132900.0</td>\n",
       "      <td>2</td>\n",
       "      <td>11</td>\n",
       "      <td>116</td>\n",
       "      <td>1</td>\n",
       "      <td>73</td>\n",
       "      <td>1</td>\n",
       "      <td>4</td>\n",
       "    </tr>\n",
       "    <tr>\n",
       "      <th>42664738</th>\n",
       "      <td>60000.0</td>\n",
       "      <td>1</td>\n",
       "      <td>6</td>\n",
       "      <td>63</td>\n",
       "      <td>1</td>\n",
       "      <td>43</td>\n",
       "      <td>1</td>\n",
       "      <td>1</td>\n",
       "    </tr>\n",
       "    <tr>\n",
       "      <th>...</th>\n",
       "      <td>...</td>\n",
       "      <td>...</td>\n",
       "      <td>...</td>\n",
       "      <td>...</td>\n",
       "      <td>...</td>\n",
       "      <td>...</td>\n",
       "      <td>...</td>\n",
       "      <td>...</td>\n",
       "    </tr>\n",
       "    <tr>\n",
       "      <th>40460287</th>\n",
       "      <td>9999999.0</td>\n",
       "      <td>1</td>\n",
       "      <td>0</td>\n",
       "      <td>1</td>\n",
       "      <td>6</td>\n",
       "      <td>1</td>\n",
       "      <td>0</td>\n",
       "      <td>6</td>\n",
       "    </tr>\n",
       "    <tr>\n",
       "      <th>42456835</th>\n",
       "      <td>22800.0</td>\n",
       "      <td>1</td>\n",
       "      <td>10</td>\n",
       "      <td>101</td>\n",
       "      <td>6</td>\n",
       "      <td>62</td>\n",
       "      <td>3</td>\n",
       "      <td>4</td>\n",
       "    </tr>\n",
       "    <tr>\n",
       "      <th>40906088</th>\n",
       "      <td>9999999.0</td>\n",
       "      <td>1</td>\n",
       "      <td>2</td>\n",
       "      <td>26</td>\n",
       "      <td>1</td>\n",
       "      <td>14</td>\n",
       "      <td>0</td>\n",
       "      <td>6</td>\n",
       "    </tr>\n",
       "    <tr>\n",
       "      <th>42583174</th>\n",
       "      <td>0.0</td>\n",
       "      <td>2</td>\n",
       "      <td>11</td>\n",
       "      <td>116</td>\n",
       "      <td>1</td>\n",
       "      <td>66</td>\n",
       "      <td>3</td>\n",
       "      <td>1</td>\n",
       "    </tr>\n",
       "    <tr>\n",
       "      <th>40622545</th>\n",
       "      <td>23500.0</td>\n",
       "      <td>1</td>\n",
       "      <td>6</td>\n",
       "      <td>63</td>\n",
       "      <td>1</td>\n",
       "      <td>67</td>\n",
       "      <td>3</td>\n",
       "      <td>1</td>\n",
       "    </tr>\n",
       "  </tbody>\n",
       "</table>\n",
       "<p>32526 rows × 8 columns</p>\n",
       "</div>"
      ],
      "text/plain": [
       "             INCTOT  SEX  EDUC  EDUCD  RACE  AGE  EMPSTAT  MARST\n",
       "40411062    15000.0    2     2     23     8   53        3      2\n",
       "42278278   100000.0    2    10    101     1   52        1      1\n",
       "40433269    38000.0    2     8     81     1   39        3      1\n",
       "40233437   132900.0    2    11    116     1   73        1      4\n",
       "42664738    60000.0    1     6     63     1   43        1      1\n",
       "...             ...  ...   ...    ...   ...  ...      ...    ...\n",
       "40460287  9999999.0    1     0      1     6    1        0      6\n",
       "42456835    22800.0    1    10    101     6   62        3      4\n",
       "40906088  9999999.0    1     2     26     1   14        0      6\n",
       "42583174        0.0    2    11    116     1   66        3      1\n",
       "40622545    23500.0    1     6     63     1   67        3      1\n",
       "\n",
       "[32526 rows x 8 columns]"
      ]
     },
     "execution_count": 4,
     "metadata": {},
     "output_type": "execute_result"
    }
   ],
   "source": [
    "data"
   ]
  },
  {
   "cell_type": "code",
   "execution_count": null,
   "id": "fb7deca5",
   "metadata": {},
   "outputs": [],
   "source": [
    "#!pip install statsmodels econml"
   ]
  },
  {
   "cell_type": "code",
   "execution_count": 5,
   "id": "9fb99a04",
   "metadata": {},
   "outputs": [
    {
     "name": "stdout",
     "output_type": "stream",
     "text": [
      "                            OLS Regression Results                            \n",
      "==============================================================================\n",
      "Dep. Variable:                 INCTOT   R-squared:                       0.001\n",
      "Model:                            OLS   Adj. R-squared:                  0.001\n",
      "Method:                 Least Squares   F-statistic:                     25.04\n",
      "Date:                Tue, 23 Apr 2024   Prob (F-statistic):           5.64e-07\n",
      "Time:                        13:20:16   Log-Likelihood:            -5.3734e+05\n",
      "No. Observations:               32526   AIC:                         1.075e+06\n",
      "Df Residuals:                   32524   BIC:                         1.075e+06\n",
      "Df Model:                           1                                         \n",
      "Covariance Type:            nonrobust                                         \n",
      "==============================================================================\n",
      "                 coef    std err          t      P>|t|      [0.025      0.975]\n",
      "------------------------------------------------------------------------------\n",
      "const        1.91e+06   6.39e+04     29.891      0.000    1.78e+06    2.03e+06\n",
      "SEX        -2.008e+05   4.01e+04     -5.004      0.000   -2.79e+05   -1.22e+05\n",
      "==============================================================================\n",
      "Omnibus:                    10087.747   Durbin-Watson:                   2.011\n",
      "Prob(Omnibus):                  0.000   Jarque-Bera (JB):            22579.542\n",
      "Skew:                           1.885   Prob(JB):                         0.00\n",
      "Kurtosis:                       4.562   Cond. No.                         6.93\n",
      "==============================================================================\n",
      "\n",
      "Notes:\n",
      "[1] Standard Errors assume that the covariance matrix of the errors is correctly specified.\n"
     ]
    }
   ],
   "source": [
    "import statsmodels.api as sm\n",
    "\n",
    "# Prepare the variables\n",
    "X = data[['SEX']]  # Independent variables\n",
    "y = data['INCTOT']  # Dependent variable\n",
    "\n",
    "# Add a constant to the independent variables (for the intercept)\n",
    "X = sm.add_constant(X)\n",
    "\n",
    "# Fit the model\n",
    "model = sm.OLS(y, X).fit()\n",
    "\n",
    "# Print the summary of the regression model\n",
    "print(model.summary())\n"
   ]
  },
  {
   "cell_type": "code",
   "execution_count": 6,
   "id": "5af582b7",
   "metadata": {},
   "outputs": [
    {
     "name": "stdout",
     "output_type": "stream",
     "text": [
      "                            OLS Regression Results                            \n",
      "==============================================================================\n",
      "Dep. Variable:                 INCTOT   R-squared:                       0.403\n",
      "Model:                            OLS   Adj. R-squared:                  0.403\n",
      "Method:                 Least Squares   F-statistic:                 1.098e+04\n",
      "Date:                Tue, 23 Apr 2024   Prob (F-statistic):               0.00\n",
      "Time:                        13:20:16   Log-Likelihood:            -5.2896e+05\n",
      "No. Observations:               32526   AIC:                         1.058e+06\n",
      "Df Residuals:                   32523   BIC:                         1.058e+06\n",
      "Df Model:                           2                                         \n",
      "Covariance Type:            nonrobust                                         \n",
      "==============================================================================\n",
      "                 coef    std err          t      P>|t|      [0.025      0.975]\n",
      "------------------------------------------------------------------------------\n",
      "const       5.651e+06   5.55e+04    101.886      0.000    5.54e+06    5.76e+06\n",
      "SEX         4.136e+04   3.11e+04      1.332      0.183   -1.95e+04    1.02e+05\n",
      "AGE        -9.642e+04    651.174   -148.072      0.000   -9.77e+04   -9.51e+04\n",
      "==============================================================================\n",
      "Omnibus:                     2722.816   Durbin-Watson:                   2.011\n",
      "Prob(Omnibus):                  0.000   Jarque-Bera (JB):             1916.798\n",
      "Skew:                           0.488   Prob(JB):                         0.00\n",
      "Kurtosis:                       2.320   Cond. No.                         194.\n",
      "==============================================================================\n",
      "\n",
      "Notes:\n",
      "[1] Standard Errors assume that the covariance matrix of the errors is correctly specified.\n"
     ]
    }
   ],
   "source": [
    "import statsmodels.api as sm\n",
    "\n",
    "# Prepare the variables\n",
    "X = data[['SEX', 'AGE']]  # Independent variables\n",
    "y = data['INCTOT']  # Dependent variable\n",
    "\n",
    "# Add a constant to the independent variables (for the intercept)\n",
    "X = sm.add_constant(X)\n",
    "\n",
    "# Fit the model\n",
    "model = sm.OLS(y, X).fit()\n",
    "\n",
    "# Print the summary of the regression model\n",
    "print(model.summary())"
   ]
  },
  {
   "cell_type": "code",
   "execution_count": null,
   "id": "6b11c044",
   "metadata": {},
   "outputs": [],
   "source": []
  },
  {
   "cell_type": "markdown",
   "id": "dc772aba",
   "metadata": {},
   "source": [
    "<font color='FireBrick' size='7'><b>Frisch–Waugh–Lovell (FWL) theorem</b></font>"
   ]
  },
  {
   "cell_type": "code",
   "execution_count": 7,
   "id": "c69e8972",
   "metadata": {},
   "outputs": [
    {
     "name": "stdout",
     "output_type": "stream",
     "text": [
      "                                 OLS Regression Results                                \n",
      "=======================================================================================\n",
      "Dep. Variable:                      y   R-squared (uncentered):                   0.339\n",
      "Model:                            OLS   Adj. R-squared (uncentered):              0.339\n",
      "Method:                 Least Squares   F-statistic:                          1.667e+04\n",
      "Date:                Tue, 23 Apr 2024   Prob (F-statistic):                        0.00\n",
      "Time:                        13:20:16   Log-Likelihood:                     -5.3347e+05\n",
      "No. Observations:               32526   AIC:                                  1.067e+06\n",
      "Df Residuals:                   32525   BIC:                                  1.067e+06\n",
      "Df Model:                           1                                                  \n",
      "Covariance Type:            nonrobust                                                  \n",
      "==============================================================================\n",
      "                 coef    std err          t      P>|t|      [0.025      0.975]\n",
      "------------------------------------------------------------------------------\n",
      "x1          2.636e+06   2.04e+04    129.120      0.000     2.6e+06    2.68e+06\n",
      "==============================================================================\n",
      "Omnibus:                     3638.379   Durbin-Watson:                   1.979\n",
      "Prob(Omnibus):                  0.000   Jarque-Bera (JB):             4994.273\n",
      "Skew:                           0.952   Prob(JB):                         0.00\n",
      "Kurtosis:                       3.248   Cond. No.                         1.00\n",
      "==============================================================================\n",
      "\n",
      "Notes:\n",
      "[1] R² is computed without centering (uncentered) since the model does not contain a constant.\n",
      "[2] Standard Errors assume that the covariance matrix of the errors is correctly specified.\n"
     ]
    }
   ],
   "source": [
    "import pandas as pd\n",
    "import statsmodels.api as sm\n",
    "\n",
    "\n",
    "# Define the variables\n",
    "y = data['INCTOT']  # Income\n",
    "x1 = data['SEX']  # Sex\n",
    "x2 = data['AGE']  # Age\n",
    "\n",
    "# Residualize y and x1 with respect to x2\n",
    "y_resid = sm.OLS(y, x2).fit().resid\n",
    "x1_resid = sm.OLS(x1, x2).fit().resid\n",
    "\n",
    "# Regress y_resid on x1_resid\n",
    "fwl_regression = sm.OLS(y_resid, x1_resid).fit()\n",
    "\n",
    "# Print the FWL coefficient\n",
    "print(fwl_regression.summary())"
   ]
  },
  {
   "cell_type": "markdown",
   "id": "2d82fd55",
   "metadata": {},
   "source": [
    "<font color='FireBrick' size='7'><b>Why different coefficients</b></font>\n",
    "\n",
    "The Frisch-Waugh-Lovell (FWL) theorem holds under certain assumptions, and there are cases where these assumptions are not met, making the theorem inapplicable or invalid. Here are some scenarios where the FWL theorem does not hold:\n",
    "\n",
    "- **Non-linear relationships**: The FWL theorem assumes a linear relationship between the variables. If the relationships are non-linear, the theorem does not apply.\n",
    "- **Non-constant variance**: The theorem assumes constant variance of the error terms. If the variance is not constant, the FWL theorem is not applicable.\n",
    "- **Correlated errors**: The FWL theorem assumes independent and identically distributed error terms. If the errors are correlated, the theorem does not hold.\n",
    "- **Multicollinearity**: If the independent variables are highly correlated, the FWL theorem may not be applicable due to multicollinearity issues.\n",
    "- **Omitted variable bias**: If there are omitted variables that are correlated with both the independent and dependent variables, the FWL theorem may not hold.\n",
    "- **Measurement error**: If there are measurement errors in the independent variables, the FWL theorem may not be applicable.\n",
    "- **Time-series data**: The FWL theorem is typically applied to cross-sectional data. If the data is time-series, additional considerations and modifications are necessary.\n",
    "\n",
    "Generalized linear models: The FWL theorem is specific to linear regression models. If the relationship is modeled using a generalized linear model (e.g., logistic regression), **the theorem does NOT apply**.\n",
    "It's essential to carefully evaluate the assumptions and limitations of the FWL theorem before applying it to your data."
   ]
  },
  {
   "cell_type": "code",
   "execution_count": null,
   "id": "52f9d1ed",
   "metadata": {},
   "outputs": [],
   "source": []
  },
  {
   "cell_type": "code",
   "execution_count": 8,
   "id": "edd42c71",
   "metadata": {},
   "outputs": [
    {
     "name": "stdout",
     "output_type": "stream",
     "text": [
      "Index(['coef', 'std err', 't', 'P>|t|', '2.5 %', '97.5 %'], dtype='object')\n",
      "The estimated coefficient for SEX is: -17907.976085269598\n"
     ]
    }
   ],
   "source": [
    "import doubleml as dml\n",
    "import pandas as pd\n",
    "from sklearn.ensemble import RandomForestRegressor\n",
    "from sklearn.model_selection import train_test_split\n",
    "\n",
    "# Load your data (replace 'your_data.csv' with your actual file name)\n",
    "\n",
    "# Get the column names for the outcome, treatment, and control(s)\n",
    "y_col = 'INCTOT'  # Outcome variable\n",
    "d_col = 'SEX'  # Treatment variable\n",
    "x_cols = ['AGE']  # Control variables\n",
    "\n",
    "# Create the dataset for DoubleML\n",
    "data_dml = dml.DoubleMLData(data, y_col=y_col, d_cols=[d_col], x_cols=x_cols)\n",
    "\n",
    "# Initialize the machine learning algorithms for DML\n",
    "ml_y = RandomForestRegressor()  # For the outcome variable\n",
    "ml_d = RandomForestRegressor()  # For the treatment variable\n",
    "\n",
    "# Initialize and fit the DoubleMLPLR model\n",
    "dml_plr = dml.DoubleMLPLR(data_dml, ml_y, ml_d, n_folds=10)\n",
    "dml_plr.fit()\n",
    "\n",
    "# Retrieve the summary DataFrame\n",
    "summary = dml_plr.summary\n",
    "\n",
    "# Check the available column names\n",
    "print(summary.columns)\n",
    "\n",
    "# Extract the coefficient for the treatment variable (SEX)\n",
    "sex_coef = summary['coef'].loc[d_col]\n",
    "\n",
    "# Output the coefficient for SEX\n",
    "print(f\"The estimated coefficient for SEX is: {sex_coef}\")"
   ]
  },
  {
   "cell_type": "markdown",
   "id": "30c8616e",
   "metadata": {},
   "source": [
    "The estimated coefficient suggests that the treatment (SEX) has a significant negative effect on the outcome variable (INCTOT). The exact interpretation of the coefficient value depends on the context and the units of the variables. For example, if INCTOT represents income, the coefficient suggests that the treatment (SEX) is associated with a decrease in income of approximately 17974.03 units."
   ]
  },
  {
   "cell_type": "code",
   "execution_count": 9,
   "id": "acd589e1",
   "metadata": {},
   "outputs": [
    {
     "data": {
      "text/plain": [
       "SEX   -17907.976085\n",
       "Name: coef, dtype: float64"
      ]
     },
     "execution_count": 9,
     "metadata": {},
     "output_type": "execute_result"
    }
   ],
   "source": [
    "summary['coef']"
   ]
  },
  {
   "cell_type": "markdown",
   "id": "f0ce2b91",
   "metadata": {},
   "source": [
    "i.e. women have 17K less in income than men "
   ]
  },
  {
   "cell_type": "code",
   "execution_count": null,
   "id": "eabd1f6d",
   "metadata": {},
   "outputs": [],
   "source": []
  }
 ],
 "metadata": {
  "kernelspec": {
   "display_name": "Python 3 (ipykernel)",
   "language": "python",
   "name": "python3"
  },
  "language_info": {
   "codemirror_mode": {
    "name": "ipython",
    "version": 3
   },
   "file_extension": ".py",
   "mimetype": "text/x-python",
   "name": "python",
   "nbconvert_exporter": "python",
   "pygments_lexer": "ipython3",
   "version": "3.11.4"
  }
 },
 "nbformat": 4,
 "nbformat_minor": 5
}
