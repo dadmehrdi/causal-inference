{
 "cells": [
  {
   "cell_type": "markdown",
   "id": "5de75485",
   "metadata": {},
   "source": [
    "<br><br>\n",
    "<font color='FireBrick' size='7'><b> Double/Debiased Machine Learning</b></font>\n",
    "\n",
    "# using IPUMS data"
   ]
  },
  {
   "cell_type": "code",
   "execution_count": 1,
   "id": "da4b7073",
   "metadata": {},
   "outputs": [
    {
     "name": "stdout",
     "output_type": "stream",
     "text": [
      "Number of rows: 43424806\n",
      "Number of columns: 54\n"
     ]
    }
   ],
   "source": [
    "import pandas as pd\n",
    "\n",
    "main_data_df = pd.read_feather(\"/Users/dadmehr/R/main_data.feather\")\n",
    "\n",
    "print(f\"Number of rows: {main_data_df.shape[0]}\")\n",
    "print(f\"Number of columns: {main_data_df.shape[1]}\")"
   ]
  },
  {
   "cell_type": "code",
   "execution_count": 2,
   "id": "6f90b362",
   "metadata": {},
   "outputs": [],
   "source": [
    "data = main_data_df[main_data_df['YEAR'] == 2021]\n",
    "data = data[['INCTOT', 'SEX', 'EDUC', 'EDUCD', 'RACE', 'AGE','EMPSTAT', 'MARST']]\n",
    "\n",
    "data.to_csv('IPUMS_2021_data.csv', index=False)"
   ]
  },
  {
   "cell_type": "code",
   "execution_count": 3,
   "id": "fdcc46da",
   "metadata": {},
   "outputs": [],
   "source": [
    "data = data.sample(frac=0.01)  # Sampling 1% of the dataset due to GitHub's 25MB file size limit for uploads."
   ]
  },
  {
   "cell_type": "code",
   "execution_count": 4,
   "id": "e978c7ab",
   "metadata": {},
   "outputs": [],
   "source": [
    "data = data[data['INCTOT'] != 9999999] "
   ]
  },
  {
   "cell_type": "code",
   "execution_count": 5,
   "id": "62fb42c4",
   "metadata": {},
   "outputs": [
    {
     "data": {
      "text/html": [
       "<div>\n",
       "<style scoped>\n",
       "    .dataframe tbody tr th:only-of-type {\n",
       "        vertical-align: middle;\n",
       "    }\n",
       "\n",
       "    .dataframe tbody tr th {\n",
       "        vertical-align: top;\n",
       "    }\n",
       "\n",
       "    .dataframe thead th {\n",
       "        text-align: right;\n",
       "    }\n",
       "</style>\n",
       "<table border=\"1\" class=\"dataframe\">\n",
       "  <thead>\n",
       "    <tr style=\"text-align: right;\">\n",
       "      <th></th>\n",
       "      <th>INCTOT</th>\n",
       "      <th>SEX</th>\n",
       "      <th>EDUC</th>\n",
       "      <th>EDUCD</th>\n",
       "      <th>RACE</th>\n",
       "      <th>AGE</th>\n",
       "      <th>EMPSTAT</th>\n",
       "      <th>MARST</th>\n",
       "    </tr>\n",
       "  </thead>\n",
       "  <tbody>\n",
       "    <tr>\n",
       "      <th>41886913</th>\n",
       "      <td>25000.0</td>\n",
       "      <td>1</td>\n",
       "      <td>6</td>\n",
       "      <td>65</td>\n",
       "      <td>1</td>\n",
       "      <td>25</td>\n",
       "      <td>1</td>\n",
       "      <td>3</td>\n",
       "    </tr>\n",
       "    <tr>\n",
       "      <th>43184983</th>\n",
       "      <td>228200.0</td>\n",
       "      <td>2</td>\n",
       "      <td>10</td>\n",
       "      <td>101</td>\n",
       "      <td>7</td>\n",
       "      <td>59</td>\n",
       "      <td>1</td>\n",
       "      <td>1</td>\n",
       "    </tr>\n",
       "    <tr>\n",
       "      <th>41042551</th>\n",
       "      <td>700.0</td>\n",
       "      <td>1</td>\n",
       "      <td>4</td>\n",
       "      <td>40</td>\n",
       "      <td>1</td>\n",
       "      <td>16</td>\n",
       "      <td>3</td>\n",
       "      <td>6</td>\n",
       "    </tr>\n",
       "    <tr>\n",
       "      <th>40650240</th>\n",
       "      <td>60000.0</td>\n",
       "      <td>2</td>\n",
       "      <td>11</td>\n",
       "      <td>115</td>\n",
       "      <td>6</td>\n",
       "      <td>32</td>\n",
       "      <td>1</td>\n",
       "      <td>6</td>\n",
       "    </tr>\n",
       "    <tr>\n",
       "      <th>41206161</th>\n",
       "      <td>75000.0</td>\n",
       "      <td>1</td>\n",
       "      <td>6</td>\n",
       "      <td>63</td>\n",
       "      <td>1</td>\n",
       "      <td>23</td>\n",
       "      <td>1</td>\n",
       "      <td>6</td>\n",
       "    </tr>\n",
       "    <tr>\n",
       "      <th>...</th>\n",
       "      <td>...</td>\n",
       "      <td>...</td>\n",
       "      <td>...</td>\n",
       "      <td>...</td>\n",
       "      <td>...</td>\n",
       "      <td>...</td>\n",
       "      <td>...</td>\n",
       "      <td>...</td>\n",
       "    </tr>\n",
       "    <tr>\n",
       "      <th>42856477</th>\n",
       "      <td>31600.0</td>\n",
       "      <td>2</td>\n",
       "      <td>6</td>\n",
       "      <td>65</td>\n",
       "      <td>2</td>\n",
       "      <td>76</td>\n",
       "      <td>3</td>\n",
       "      <td>5</td>\n",
       "    </tr>\n",
       "    <tr>\n",
       "      <th>42281517</th>\n",
       "      <td>100.0</td>\n",
       "      <td>2</td>\n",
       "      <td>7</td>\n",
       "      <td>71</td>\n",
       "      <td>1</td>\n",
       "      <td>40</td>\n",
       "      <td>3</td>\n",
       "      <td>2</td>\n",
       "    </tr>\n",
       "    <tr>\n",
       "      <th>42513508</th>\n",
       "      <td>3000.0</td>\n",
       "      <td>2</td>\n",
       "      <td>6</td>\n",
       "      <td>63</td>\n",
       "      <td>1</td>\n",
       "      <td>68</td>\n",
       "      <td>3</td>\n",
       "      <td>5</td>\n",
       "    </tr>\n",
       "    <tr>\n",
       "      <th>43346425</th>\n",
       "      <td>28000.0</td>\n",
       "      <td>2</td>\n",
       "      <td>6</td>\n",
       "      <td>63</td>\n",
       "      <td>1</td>\n",
       "      <td>54</td>\n",
       "      <td>1</td>\n",
       "      <td>1</td>\n",
       "    </tr>\n",
       "    <tr>\n",
       "      <th>40233517</th>\n",
       "      <td>17540.0</td>\n",
       "      <td>2</td>\n",
       "      <td>8</td>\n",
       "      <td>81</td>\n",
       "      <td>1</td>\n",
       "      <td>67</td>\n",
       "      <td>3</td>\n",
       "      <td>5</td>\n",
       "    </tr>\n",
       "  </tbody>\n",
       "</table>\n",
       "<p>27451 rows × 8 columns</p>\n",
       "</div>"
      ],
      "text/plain": [
       "            INCTOT  SEX  EDUC  EDUCD  RACE  AGE  EMPSTAT  MARST\n",
       "41886913   25000.0    1     6     65     1   25        1      3\n",
       "43184983  228200.0    2    10    101     7   59        1      1\n",
       "41042551     700.0    1     4     40     1   16        3      6\n",
       "40650240   60000.0    2    11    115     6   32        1      6\n",
       "41206161   75000.0    1     6     63     1   23        1      6\n",
       "...            ...  ...   ...    ...   ...  ...      ...    ...\n",
       "42856477   31600.0    2     6     65     2   76        3      5\n",
       "42281517     100.0    2     7     71     1   40        3      2\n",
       "42513508    3000.0    2     6     63     1   68        3      5\n",
       "43346425   28000.0    2     6     63     1   54        1      1\n",
       "40233517   17540.0    2     8     81     1   67        3      5\n",
       "\n",
       "[27451 rows x 8 columns]"
      ]
     },
     "execution_count": 5,
     "metadata": {},
     "output_type": "execute_result"
    }
   ],
   "source": [
    "data"
   ]
  },
  {
   "cell_type": "code",
   "execution_count": null,
   "id": "31c573de",
   "metadata": {},
   "outputs": [],
   "source": []
  },
  {
   "cell_type": "code",
   "execution_count": 6,
   "id": "f7a0ab92",
   "metadata": {},
   "outputs": [],
   "source": [
    "#!pip install statsmodels econml"
   ]
  },
  {
   "cell_type": "code",
   "execution_count": 7,
   "id": "1b30424f",
   "metadata": {},
   "outputs": [
    {
     "name": "stdout",
     "output_type": "stream",
     "text": [
      "                            OLS Regression Results                            \n",
      "==============================================================================\n",
      "Dep. Variable:                 INCTOT   R-squared:                       0.023\n",
      "Model:                            OLS   Adj. R-squared:                  0.023\n",
      "Method:                 Least Squares   F-statistic:                     649.9\n",
      "Date:                Tue, 23 Apr 2024   Prob (F-statistic):          1.04e-141\n",
      "Time:                        15:47:45   Log-Likelihood:            -3.4435e+05\n",
      "No. Observations:               27451   AIC:                         6.887e+05\n",
      "Df Residuals:                   27449   BIC:                         6.887e+05\n",
      "Df Model:                           1                                         \n",
      "Covariance Type:            nonrobust                                         \n",
      "==============================================================================\n",
      "                 coef    std err          t      P>|t|      [0.025      0.975]\n",
      "------------------------------------------------------------------------------\n",
      "const       7.789e+04   1305.748     59.654      0.000    7.53e+04    8.05e+04\n",
      "SEX        -2.089e+04    819.414    -25.493      0.000   -2.25e+04   -1.93e+04\n",
      "==============================================================================\n",
      "Omnibus:                    27163.997   Durbin-Watson:                   2.010\n",
      "Prob(Omnibus):                  0.000   Jarque-Bera (JB):          1714469.006\n",
      "Skew:                           4.849   Prob(JB):                         0.00\n",
      "Kurtosis:                      40.482   Cond. No.                         6.94\n",
      "==============================================================================\n",
      "\n",
      "Notes:\n",
      "[1] Standard Errors assume that the covariance matrix of the errors is correctly specified.\n"
     ]
    }
   ],
   "source": [
    "import statsmodels.api as sm\n",
    "\n",
    "# Prepare the variables\n",
    "X = data[['SEX']]  # Independent variables\n",
    "y = data['INCTOT']  # Dependent variable\n",
    "\n",
    "# Add a constant to the independent variables (for the intercept)\n",
    "X = sm.add_constant(X)\n",
    "\n",
    "# Fit the model\n",
    "model = sm.OLS(y, X).fit()\n",
    "\n",
    "# Print the summary of the regression model\n",
    "print(model.summary())\n"
   ]
  },
  {
   "cell_type": "code",
   "execution_count": 8,
   "id": "0d787140",
   "metadata": {},
   "outputs": [
    {
     "name": "stdout",
     "output_type": "stream",
     "text": [
      "                            OLS Regression Results                            \n",
      "==============================================================================\n",
      "Dep. Variable:                 INCTOT   R-squared:                       0.238\n",
      "Model:                            OLS   Adj. R-squared:                  0.238\n",
      "Method:                 Least Squares   F-statistic:                     1427.\n",
      "Date:                Tue, 23 Apr 2024   Prob (F-statistic):               0.00\n",
      "Time:                        15:47:45   Log-Likelihood:            -3.4094e+05\n",
      "No. Observations:               27451   AIC:                         6.819e+05\n",
      "Df Residuals:                   27444   BIC:                         6.820e+05\n",
      "Df Model:                           6                                         \n",
      "Covariance Type:            nonrobust                                         \n",
      "==============================================================================\n",
      "                 coef    std err          t      P>|t|      [0.025      0.975]\n",
      "------------------------------------------------------------------------------\n",
      "const       3.655e+04   2163.296     16.895      0.000    3.23e+04    4.08e+04\n",
      "SEX        -2.004e+04    727.755    -27.531      0.000   -2.15e+04   -1.86e+04\n",
      "EDUCD        771.0158     15.119     50.998      0.000     741.383     800.649\n",
      "RACE        -107.9243    147.239     -0.733      0.464    -396.520     180.671\n",
      "AGE          548.6592     21.998     24.941      0.000     505.542     591.776\n",
      "EMPSTAT    -1.965e+04    413.632    -47.502      0.000   -2.05e+04   -1.88e+04\n",
      "MARST      -2787.9253    179.441    -15.537      0.000   -3139.639   -2436.212\n",
      "==============================================================================\n",
      "Omnibus:                    29281.861   Durbin-Watson:                   2.008\n",
      "Prob(Omnibus):                  0.000   Jarque-Bera (JB):          2660591.362\n",
      "Skew:                           5.363   Prob(JB):                         0.00\n",
      "Kurtosis:                      50.022   Cond. No.                         567.\n",
      "==============================================================================\n",
      "\n",
      "Notes:\n",
      "[1] Standard Errors assume that the covariance matrix of the errors is correctly specified.\n"
     ]
    }
   ],
   "source": [
    "import statsmodels.api as sm\n",
    "\n",
    "# Prepare the variables\n",
    "X = data[['SEX', 'EDUCD', 'RACE', 'AGE','EMPSTAT', 'MARST']]  # Independent variables\n",
    "y = data['INCTOT']  # Dependent variable\n",
    "\n",
    "# Add a constant to the independent variables (for the intercept)\n",
    "X = sm.add_constant(X)\n",
    "\n",
    "# Fit the model\n",
    "model = sm.OLS(y, X).fit()\n",
    "\n",
    "# Print the summary of the regression model\n",
    "print(model.summary())"
   ]
  },
  {
   "cell_type": "code",
   "execution_count": 9,
   "id": "ff73bc85",
   "metadata": {},
   "outputs": [
    {
     "name": "stdout",
     "output_type": "stream",
     "text": [
      "                            OLS Regression Results                            \n",
      "==============================================================================\n",
      "Dep. Variable:                 INCTOT   R-squared:                       0.035\n",
      "Model:                            OLS   Adj. R-squared:                  0.035\n",
      "Method:                 Least Squares   F-statistic:                     493.7\n",
      "Date:                Tue, 23 Apr 2024   Prob (F-statistic):          2.32e-211\n",
      "Time:                        15:47:45   Log-Likelihood:            -3.4418e+05\n",
      "No. Observations:               27451   AIC:                         6.884e+05\n",
      "Df Residuals:                   27448   BIC:                         6.884e+05\n",
      "Df Model:                           2                                         \n",
      "Covariance Type:            nonrobust                                         \n",
      "==============================================================================\n",
      "                 coef    std err          t      P>|t|      [0.025      0.975]\n",
      "------------------------------------------------------------------------------\n",
      "const       6.066e+04   1608.006     37.724      0.000    5.75e+04    6.38e+04\n",
      "SEX        -2.158e+04    815.451    -26.470      0.000   -2.32e+04      -2e+04\n",
      "AGE          370.9504     20.431     18.157      0.000     330.905     410.995\n",
      "==============================================================================\n",
      "Omnibus:                    27275.525   Durbin-Watson:                   2.011\n",
      "Prob(Omnibus):                  0.000   Jarque-Bera (JB):          1749436.267\n",
      "Skew:                           4.877   Prob(JB):                         0.00\n",
      "Kurtosis:                      40.873   Cond. No.                         226.\n",
      "==============================================================================\n",
      "\n",
      "Notes:\n",
      "[1] Standard Errors assume that the covariance matrix of the errors is correctly specified.\n"
     ]
    }
   ],
   "source": [
    "import statsmodels.api as sm\n",
    "\n",
    "# Prepare the variables\n",
    "X = data[['SEX', 'AGE']]  # Independent variables\n",
    "y = data['INCTOT']  # Dependent variable\n",
    "\n",
    "# Add a constant to the independent variables (for the intercept)\n",
    "X = sm.add_constant(X)\n",
    "\n",
    "# Fit the model\n",
    "model = sm.OLS(y, X).fit()\n",
    "\n",
    "# Print the summary of the regression model\n",
    "print(model.summary())"
   ]
  },
  {
   "cell_type": "markdown",
   "id": "1df86896",
   "metadata": {},
   "source": [
    "<font color='FireBrick' size='5'><b>Frisch–Waugh–Lovell (FWL) theorem</b></font>"
   ]
  },
  {
   "cell_type": "code",
   "execution_count": 10,
   "id": "4358614f",
   "metadata": {},
   "outputs": [
    {
     "name": "stdout",
     "output_type": "stream",
     "text": [
      "                                 OLS Regression Results                                \n",
      "=======================================================================================\n",
      "Dep. Variable:                      y   R-squared (uncentered):                   0.000\n",
      "Model:                            OLS   Adj. R-squared (uncentered):              0.000\n",
      "Method:                 Least Squares   F-statistic:                              3.901\n",
      "Date:                Tue, 23 Apr 2024   Prob (F-statistic):                      0.0483\n",
      "Time:                        15:47:45   Log-Likelihood:                     -3.4488e+05\n",
      "No. Observations:               27451   AIC:                                  6.898e+05\n",
      "Df Residuals:                   27450   BIC:                                  6.898e+05\n",
      "Df Model:                           1                                                  \n",
      "Covariance Type:            nonrobust                                                  \n",
      "==============================================================================\n",
      "                 coef    std err          t      P>|t|      [0.025      0.975]\n",
      "------------------------------------------------------------------------------\n",
      "x1          1114.7992    564.409      1.975      0.048       8.528    2221.070\n",
      "==============================================================================\n",
      "Omnibus:                    26392.452   Durbin-Watson:                   2.004\n",
      "Prob(Omnibus):                  0.000   Jarque-Bera (JB):          1536885.750\n",
      "Skew:                           4.648   Prob(JB):                         0.00\n",
      "Kurtosis:                      38.458   Cond. No.                         1.00\n",
      "==============================================================================\n",
      "\n",
      "Notes:\n",
      "[1] R² is computed without centering (uncentered) since the model does not contain a constant.\n",
      "[2] Standard Errors assume that the covariance matrix of the errors is correctly specified.\n"
     ]
    }
   ],
   "source": [
    "import pandas as pd\n",
    "import statsmodels.api as sm\n",
    "\n",
    "\n",
    "# Define the variables\n",
    "y = data['INCTOT']  # Income\n",
    "x1 = data['SEX']  # Sex\n",
    "x2 = data['AGE']  # Age\n",
    "\n",
    "# Residualize y and x1 with respect to x2\n",
    "y_resid = sm.OLS(y, x2).fit().resid\n",
    "x1_resid = sm.OLS(x1, x2).fit().resid\n",
    "\n",
    "# Regress y_resid on x1_resid\n",
    "fwl_regression = sm.OLS(y_resid, x1_resid).fit()\n",
    "\n",
    "# Print the FWL coefficient\n",
    "print(fwl_regression.summary())"
   ]
  },
  {
   "cell_type": "markdown",
   "id": "fe00a68a",
   "metadata": {},
   "source": [
    "<font color='FireBrick' size='5'><b>Why different coefficients</b></font>\n",
    "\n",
    "The Frisch-Waugh-Lovell (FWL) theorem holds under certain assumptions, and there are cases where these assumptions are not met, making the theorem inapplicable or invalid. Here are some scenarios where the FWL theorem does not hold:\n",
    "\n",
    "- **Non-linear relationships**: The FWL theorem assumes a linear relationship between the variables. If the relationships are non-linear, the theorem does not apply.\n",
    "- **Non-constant variance**: The theorem assumes constant variance of the error terms. If the variance is not constant, the FWL theorem is not applicable.\n",
    "- **Correlated errors**: The FWL theorem assumes independent and identically distributed error terms. If the errors are correlated, the theorem does not hold.\n",
    "- **Multicollinearity**: If the independent variables are highly correlated, the FWL theorem may not be applicable due to multicollinearity issues.\n",
    "- **Omitted variable bias**: If there are omitted variables that are correlated with both the independent and dependent variables, the FWL theorem may not hold.\n",
    "- **Measurement error**: If there are measurement errors in the independent variables, the FWL theorem may not be applicable.\n",
    "- **Time-series data**: The FWL theorem is typically applied to cross-sectional data. If the data is time-series, additional considerations and modifications are necessary.\n",
    "\n",
    "Generalized linear models: The FWL theorem is specific to linear regression models. If the relationship is modeled using a generalized linear model (e.g., logistic regression), **the theorem does NOT apply**.\n",
    "It's essential to carefully evaluate the assumptions and limitations of the FWL theorem before applying it to your data."
   ]
  },
  {
   "cell_type": "markdown",
   "id": "1224d5da",
   "metadata": {},
   "source": [
    "# Using just AGE for control"
   ]
  },
  {
   "cell_type": "code",
   "execution_count": 11,
   "id": "73e67ea5",
   "metadata": {},
   "outputs": [
    {
     "name": "stdout",
     "output_type": "stream",
     "text": [
      "Index(['coef', 'std err', 't', 'P>|t|', '2.5 %', '97.5 %'], dtype='object')\n",
      "The estimated coefficient for SEX is: -20940.18239343873\n"
     ]
    }
   ],
   "source": [
    "import doubleml as dml\n",
    "import pandas as pd\n",
    "from sklearn.ensemble import RandomForestRegressor\n",
    "from sklearn.model_selection import train_test_split\n",
    "\n",
    "# Load your data (replace 'your_data.csv' with your actual file name)\n",
    "\n",
    "# Get the column names for the outcome, treatment, and control(s)\n",
    "y_col = 'INCTOT'  # Outcome variable\n",
    "d_col = 'SEX'  # Treatment variable\n",
    "x_cols = ['AGE']  # Control variables\n",
    "\n",
    "# Create the dataset for DoubleML\n",
    "data_dml = dml.DoubleMLData(data, y_col=y_col, d_cols=[d_col], x_cols=x_cols)\n",
    "\n",
    "# Initialize the machine learning algorithms for DML\n",
    "ml_y = RandomForestRegressor()  # For the outcome variable\n",
    "ml_d = RandomForestRegressor()  # For the treatment variable\n",
    "\n",
    "# Initialize and fit the DoubleMLPLR model\n",
    "dml_plr = dml.DoubleMLPLR(data_dml, ml_y, ml_d, n_folds=10)\n",
    "dml_plr.fit()\n",
    "\n",
    "# Retrieve the summary DataFrame\n",
    "summary = dml_plr.summary\n",
    "\n",
    "# Check the available column names\n",
    "print(summary.columns)\n",
    "\n",
    "# Extract the coefficient for the treatment variable (SEX)\n",
    "sex_coef = summary['coef'].loc[d_col]\n",
    "\n",
    "# Output the coefficient for SEX\n",
    "print(f\"The estimated coefficient for SEX is: {sex_coef}\")"
   ]
  },
  {
   "cell_type": "markdown",
   "id": "3d4207e7",
   "metadata": {},
   "source": [
    "# Result\n",
    "\n",
    "The analysis suggests that, on average, females tend to have a lower income than males by approximately 20,940."
   ]
  },
  {
   "cell_type": "code",
   "execution_count": null,
   "id": "136d8344",
   "metadata": {},
   "outputs": [],
   "source": []
  },
  {
   "cell_type": "markdown",
   "id": "b44fad61",
   "metadata": {},
   "source": [
    "# Using more than just AGE for control "
   ]
  },
  {
   "cell_type": "code",
   "execution_count": 12,
   "id": "65d23ffe",
   "metadata": {},
   "outputs": [
    {
     "name": "stdout",
     "output_type": "stream",
     "text": [
      "Index(['coef', 'std err', 't', 'P>|t|', '2.5 %', '97.5 %'], dtype='object')\n",
      "The estimated coefficient for SEX is: -18726.349889742072\n"
     ]
    }
   ],
   "source": [
    "import doubleml as dml\n",
    "import pandas as pd\n",
    "from sklearn.ensemble import RandomForestRegressor\n",
    "from sklearn.model_selection import train_test_split\n",
    "\n",
    "# Load your data (replace 'your_data.csv' with your actual file name)\n",
    "\n",
    "# Get the column names for the outcome, treatment, and control(s)\n",
    "y_col = 'INCTOT'  # Outcome variable\n",
    "d_col = 'SEX'  # Treatment variable\n",
    "x_cols = ['EDUCD', 'RACE', 'AGE', 'EMPSTAT', 'MARST']  # Control variables\n",
    "#x_cols = ['AGE']  # Control variables\n",
    "\n",
    "# Create the dataset for DoubleML\n",
    "data_dml = dml.DoubleMLData(data, y_col=y_col, d_cols=[d_col], x_cols=x_cols)\n",
    "\n",
    "# Initialize the machine learning algorithms for DML\n",
    "ml_y = RandomForestRegressor()  # For the outcome variable\n",
    "ml_d = RandomForestRegressor()  # For the treatment variable\n",
    "\n",
    "# Initialize and fit the DoubleMLPLR model\n",
    "dml_plr = dml.DoubleMLPLR(data_dml, ml_y, ml_d, n_folds=10)\n",
    "dml_plr.fit()\n",
    "\n",
    "# Retrieve the summary DataFrame\n",
    "summary = dml_plr.summary\n",
    "\n",
    "# Check the available column names\n",
    "print(summary.columns)\n",
    "\n",
    "# Extract the coefficient for the treatment variable (SEX)\n",
    "sex_coef = summary['coef'].loc[d_col]\n",
    "\n",
    "# Output the coefficient for SEX\n",
    "print(f\"The estimated coefficient for SEX is: {sex_coef}\")"
   ]
  },
  {
   "cell_type": "markdown",
   "id": "8b8b5521",
   "metadata": {},
   "source": [
    "# Result\n",
    "\n",
    "The estimated coefficient for SEX is approximately -18,726, which means that, on average, being female (SEX=2) is associated with a decrease of 18,726 in INCTOT compared to being male (SEX=1), holding all other variables constant.\n",
    "\n",
    "In other words, the analysis suggests that, on average, females tend to have a lower income than males by approximately 18,726.\n",
    "\n",
    "Note that the p-value is not shown in the output, but it can be inferred to be very small (likely less than 0.001) given the large t-statistic and the confidence interval. This suggests that the coefficient for SEX is statistically significant, meaning that the observed association between SEX and INCTOT is unlikely to be due to chance."
   ]
  },
  {
   "cell_type": "code",
   "execution_count": null,
   "id": "aa6df2b3",
   "metadata": {},
   "outputs": [],
   "source": []
  }
 ],
 "metadata": {
  "kernelspec": {
   "display_name": "Python 3 (ipykernel)",
   "language": "python",
   "name": "python3"
  },
  "language_info": {
   "codemirror_mode": {
    "name": "ipython",
    "version": 3
   },
   "file_extension": ".py",
   "mimetype": "text/x-python",
   "name": "python",
   "nbconvert_exporter": "python",
   "pygments_lexer": "ipython3",
   "version": "3.11.4"
  }
 },
 "nbformat": 4,
 "nbformat_minor": 5
}
